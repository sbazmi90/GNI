{
 "cells": [
  {
   "cell_type": "markdown",
   "metadata": {},
   "source": [
    "## Backward Euler for solar system"
   ]
  },
  {
   "cell_type": "code",
   "execution_count": 1,
   "metadata": {},
   "outputs": [],
   "source": [
    "import numpy as np\n",
    "import matplotlib.pyplot as plt\n",
    "from scipy.optimize import fsolve"
   ]
  },
  {
   "cell_type": "code",
   "execution_count": 2,
   "metadata": {},
   "outputs": [],
   "source": [
    "data = np.loadtxt('data.txt')"
   ]
  },
  {
   "cell_type": "code",
   "execution_count": 3,
   "metadata": {},
   "outputs": [],
   "source": [
    "m = data[:,0]\n",
    "xi = data[:,1]\n",
    "yi = data[:,2]\n",
    "zi = data[:,3]\n",
    "vxi = data[:,4]\n",
    "vyi = data[:,5]\n",
    "vzi = data[:,6]\n",
    "t_max = 365000\n",
    "G = 2.95 * (10**-4)\n",
    "delta =1\n",
    "N = 1000\n",
    "UE = np.zeros((N-1),float)\n",
    "KE = np.zeros((N-1),float)"
   ]
  },
  {
   "cell_type": "code",
   "execution_count": 4,
   "metadata": {},
   "outputs": [],
   "source": [
    "x = np.zeros((N,10),float)\n",
    "y = np.zeros((N,10),float)\n",
    "z = np.zeros((N,10),float)\n",
    "dx =np.zeros((10,10),float)\n",
    "dy = np.zeros((10,10),float)\n",
    "dz = np.zeros((10,10),float)\n",
    "px = np.zeros((N,10),float)\n",
    "py = np.zeros((N,10),float)\n",
    "pz = np.zeros((N,10),float)\n",
    "r = np.zeros((10,10),float)\n",
    "ux = np.zeros((10),float)\n",
    "uy = np.zeros((10),float)\n",
    "uz = np.zeros((10),float)\n",
    "ep = 1e-6"
   ]
  },
  {
   "cell_type": "code",
   "execution_count": 5,
   "metadata": {},
   "outputs": [],
   "source": [
    "for i in range(10):\n",
    "    x[0,i] = xi[i]\n",
    "    y[0,i] = yi[i]\n",
    "    z[0,i] = zi[i]\n",
    "    px[0,i] = m[i]*vxi[i]\n",
    "    py[0,i] = m[i]*vyi[i]\n",
    "    pz[0,i] = m[i]*vzi[i]"
   ]
  },
  {
   "cell_type": "code",
   "execution_count": null,
   "metadata": {},
   "outputs": [],
   "source": []
  },
  {
   "cell_type": "code",
   "execution_count": null,
   "metadata": {},
   "outputs": [],
   "source": []
  },
  {
   "cell_type": "code",
   "execution_count": null,
   "metadata": {},
   "outputs": [],
   "source": []
  },
  {
   "cell_type": "code",
   "execution_count": null,
   "metadata": {},
   "outputs": [],
   "source": [
    "\n"
   ]
  },
  {
   "cell_type": "code",
   "execution_count": null,
   "metadata": {},
   "outputs": [],
   "source": []
  },
  {
   "cell_type": "code",
   "execution_count": 1,
   "metadata": {},
   "outputs": [],
   "source": [
    "def BackwardEuler(n_plus_one,n):\n",
    "    global object_code\n",
    "    global data\n",
    "    global delta\n",
    "\n",
    "    qx0=n[0]\n",
    "    qy0=n[1]\n",
    "    qz0=n[2]\n",
    "    \n",
    "    px0=n[3]\n",
    "    py0=n[4]\n",
    "    pz0=n[5]\n",
    "\n",
    "\n",
    "    qx1=n_plus_one[0]\n",
    "    qy1=n_plus_one[1]\n",
    "    qz1=n_plus_one[2]\n",
    "    \n",
    "    px1=n_plus_one[3]\n",
    "    py1=n_plus_one[4]\n",
    "    pz1=n_plus_one[5]\n",
    "\n",
    "\n",
    "    F1=(qx1-qx0)/delta - px1/data[object_code,0]\n",
    "    F2=(qy1-qy0)/delta - py1/data[object_code,0]\n",
    "    F3=(qz1-qz0)/delta - pz1/data[object_code,0]\n",
    "    \n",
    "    ux = uy = uz = 0;\n",
    "    \n",
    "    for i in range(10):\n",
    "        if(i != object_code):\n",
    "            dqx = data[i,1]-qx1\n",
    "            dqy = data[i,2]-qy1\n",
    "            dqz = data[i,3]-qz1\n",
    "            r = np.sqrt(dqx**2 + dqy**2 + dqz**2)\n",
    "            ux = ux-G*data[i,0]*data[object_code,0]*dqx/((r+ep)**3)\n",
    "            uy = uy-G*data[i,0]*data[object_code,0]*dqy/((r+ep)**3)\n",
    "            uz = uz-G*data[i,0]*data[object_code,0]*dqz/((r+ep)**3)    \n",
    "    \n",
    "\n",
    "    F4=(px1-px0)/delta + ux\n",
    "    F5=(py1-py0)/delta + uy\n",
    "    F6=(pz1-pz0)/delta + uz\n",
    "\n",
    "    \n",
    "    F=np.array([F1,F2,F3,F4,F5,F6])\n",
    "\n",
    "    return F\n"
   ]
  },
  {
   "cell_type": "code",
   "execution_count": 8,
   "metadata": {
    "scrolled": true
   },
   "outputs": [
    {
     "name": "stderr",
     "output_type": "stream",
     "text": [
      "/home/sbazmi/anaconda3/lib/python3.7/site-packages/scipy/optimize/minpack.py:162: RuntimeWarning: The iteration is not making good progress, as measured by the \n",
      "  improvement from the last ten iterations.\n",
      "  warnings.warn(msg, RuntimeWarning)\n"
     ]
    }
   ],
   "source": [
    "for t in range(1,N):\n",
    "    for k in range(10):\n",
    "        ux[k] = uy[k] = uz[k] = UE[k] = KE[k] = 0\n",
    "    for i in range(10):\n",
    "        KE[t-1] = KE[t-1] + 0.5 * (px[t-1,i] * px[t-1,i] + py[t-1,i] * py[t-1,i] + pz[t-1,i] * pz[t-1,i])/m[i]\n",
    "        for j in range(10):\n",
    "            if(i != j):\n",
    "                dx[i,j] = x[t-1,i]-x[t-1,j]\n",
    "                dy[i,j] = y[t-1,i]-y[t-1,j]\n",
    "                dz[i,j] = z[t-1,i]-z[t-1,j]\n",
    "                r[i,j] = np.sqrt(dx[i,j]**2 + dy[i,j]**2 + dz[i,j]**2)\n",
    "                UE[t-1]=UE[t-1] - G* m[i]*m[j] / (r[i,j]+ep)\n",
    "\n",
    "    data_list = []\n",
    "    for object_code in range (10):\n",
    "        Guess = data[object_code,1:]\n",
    "        p = data[object_code,1:]\n",
    "        # solving to find updates\n",
    "        n_plus_one = fsolve(BackwardEuler,Guess,args=p,xtol=1e-12)\n",
    "        \n",
    "        x[t,object_code] = n_plus_one[0]\n",
    "        y[t,object_code] = n_plus_one[1]\n",
    "        z[t,object_code] = n_plus_one[2]\n",
    "        px[t,object_code] = n_plus_one[3]\n",
    "        py[t,object_code] = n_plus_one[4]\n",
    "        pz[t,object_code] = n_plus_one[5]\n",
    "        \n",
    "        n = np.array([x[t,object_code], y[t,object_code], z[t,object_code],\n",
    "                     px[t,object_code], py[t,object_code], pz[t,object_code]])\n",
    "        \n",
    "        data_list.append([data[object_code,0],x[t,object_code], y[t,object_code], z[t,object_code],\n",
    "                        px[t,object_code], py[t,object_code], pz[t,object_code]])\n",
    "        \n",
    "    data = np.array(data_list)"
   ]
  },
  {
   "cell_type": "code",
   "execution_count": 9,
   "metadata": {},
   "outputs": [],
   "source": [
    "xsun = x[:,0];ysun = y[:,0];zsun = z[:,0];\n",
    "xmer = x[:,1];ymer = y[:,1];zmer = z[:,1];\n",
    "xven = x[:,2];yven = y[:,2];zven = z[:,2];\n",
    "xear = x[:,3];year = y[:,3];zear = z[:,3];\n",
    "xmar = x[:,4];ymar = y[:,4];zmar = z[:,4];\n",
    "xjup = x[:,5];yjup = y[:,5];zjup = z[:,5];\n",
    "xsat = x[:,6];ysat = y[:,6];zsat = z[:,6];\n",
    "xura = x[:,7];yura = y[:,7];zura = z[:,7];  \n",
    "xnep = x[:,8];ynep = y[:,8];znep = z[:,8];                                     \n",
    "xplo = x[:,9];yplo = y[:,9];zplo = z[:,9];"
   ]
  },
  {
   "cell_type": "code",
   "execution_count": null,
   "metadata": {},
   "outputs": [],
   "source": [
    "plt.figure(figsize = (20,10))\n",
    "plt.plot(time,H)\n",
    "plt.xlim(0,N)"
   ]
  },
  {
   "cell_type": "code",
   "execution_count": 2,
   "metadata": {},
   "outputs": [
    {
     "ename": "NameError",
     "evalue": "name 'plt' is not defined",
     "output_type": "error",
     "traceback": [
      "\u001b[0;31m---------------------------------------------------------------------------\u001b[0m",
      "\u001b[0;31mNameError\u001b[0m                                 Traceback (most recent call last)",
      "\u001b[0;32m<ipython-input-2-4490a76ab3c9>\u001b[0m in \u001b[0;36m<module>\u001b[0;34m\u001b[0m\n\u001b[1;32m      1\u001b[0m \u001b[0;32mfrom\u001b[0m \u001b[0mmpl_toolkits\u001b[0m \u001b[0;32mimport\u001b[0m \u001b[0mmplot3d\u001b[0m\u001b[0;34m\u001b[0m\u001b[0;34m\u001b[0m\u001b[0m\n\u001b[0;32m----> 2\u001b[0;31m \u001b[0mfig\u001b[0m \u001b[0;34m=\u001b[0m \u001b[0mplt\u001b[0m\u001b[0;34m.\u001b[0m\u001b[0mfigure\u001b[0m\u001b[0;34m(\u001b[0m\u001b[0mfigsize\u001b[0m\u001b[0;34m=\u001b[0m\u001b[0;34m(\u001b[0m\u001b[0;36m30\u001b[0m\u001b[0;34m,\u001b[0m\u001b[0;36m15\u001b[0m\u001b[0;34m)\u001b[0m\u001b[0;34m)\u001b[0m\u001b[0;34m\u001b[0m\u001b[0;34m\u001b[0m\u001b[0m\n\u001b[0m\u001b[1;32m      3\u001b[0m \u001b[0max\u001b[0m \u001b[0;34m=\u001b[0m \u001b[0mplt\u001b[0m\u001b[0;34m.\u001b[0m\u001b[0maxes\u001b[0m\u001b[0;34m(\u001b[0m\u001b[0mprojection\u001b[0m\u001b[0;34m=\u001b[0m\u001b[0;34m'3d'\u001b[0m\u001b[0;34m)\u001b[0m\u001b[0;34m\u001b[0m\u001b[0;34m\u001b[0m\u001b[0m\n\u001b[1;32m      4\u001b[0m \u001b[0max\u001b[0m\u001b[0;34m.\u001b[0m\u001b[0mplot3D\u001b[0m\u001b[0;34m(\u001b[0m\u001b[0mxsun\u001b[0m\u001b[0;34m,\u001b[0m\u001b[0mysun\u001b[0m\u001b[0;34m,\u001b[0m\u001b[0mzsun\u001b[0m\u001b[0;34m,\u001b[0m\u001b[0mlabel\u001b[0m \u001b[0;34m=\u001b[0m \u001b[0;34m'Sun'\u001b[0m\u001b[0;34m,\u001b[0m \u001b[0mcolor\u001b[0m \u001b[0;34m=\u001b[0m \u001b[0;34m'red'\u001b[0m\u001b[0;34m)\u001b[0m\u001b[0;34m\u001b[0m\u001b[0;34m\u001b[0m\u001b[0m\n\u001b[1;32m      5\u001b[0m \u001b[0;31m#ax.plot3D(xmer,ymer,zmer,'black')\u001b[0m\u001b[0;34m\u001b[0m\u001b[0;34m\u001b[0m\u001b[0;34m\u001b[0m\u001b[0m\n",
      "\u001b[0;31mNameError\u001b[0m: name 'plt' is not defined"
     ]
    }
   ],
   "source": [
    "from mpl_toolkits import mplot3d\n",
    "fig = plt.figure(figsize=(30,15))\n",
    "ax = plt.axes(projection='3d')\n",
    "ax.plot3D(xsun,ysun,zsun,label = 'Sun', color = 'red')\n",
    "#ax.plot3D(xmer,ymer,zmer,'black')\n",
    "#ax.plot3D(xven,yven,zven,'')\n",
    "#ax.plot3D(xear,year,zear,'blue')\n",
    "#ax.plot3D(xmar,ymar,zmar,'brown')\n",
    "#ax.plot3D(xjup,yjup,zjup,'green')\n",
    "ax.plot3D(xsat,ysat,zsat, label = 'Saturn',color = 'violet')\n",
    "ax.plot3D(xura,yura,zura,label = 'Uranus',color = 'pink')\n",
    "ax.plot3D(xnep,ynep,znep,label = 'Nepton',color = 'orange')\n",
    "ax.plot3D(xplo,yplo,zplo,label = 'Plotu',color = 'gray')\n",
    "plt.legend(loc = \"upper left\", fontsize = 25)\n",
    "ax.set_title(\"Part of Solar System by Backward-Euler\",fontsize = 25)\n",
    "ax.set_xlabel('x',fontsize = 25)\n",
    "ax.set_ylabel('y',fontsize = 25)\n",
    "ax.set_zlabel('z',fontsize = 25)"
   ]
  },
  {
   "cell_type": "code",
   "execution_count": null,
   "metadata": {},
   "outputs": [],
   "source": [
    "xsun = x[:,0];ysun = y[:,0];zsun = z[:,0];\n",
    "xmer = x[:,1];ymer = y[:,1];zmer = z[:,1];\n",
    "xven = x[:,2];yven = y[:,2];zven = z[:,2];\n",
    "xear = x[:,3];year = y[:,3];zear = z[:,3];\n",
    "xmar = x[:,4];ymar = y[:,4];zmar = z[:,4];\n",
    "xjup = x[:,5];yjup = y[:,5];zjup = z[:,5];\n",
    "xsat = x[:,6];ysat = y[:,6];zsat = z[:,6];\n",
    "xura = x[:,7];yura = y[:,7];zura = z[:,7];  \n",
    "xnep = x[:,8];ynep = y[:,8];znep = z[:,8];                                     \n",
    "xplo = x[:,9];yplo = y[:,9];zplo = z[:,9];"
   ]
  }
 ],
 "metadata": {
  "kernelspec": {
   "display_name": "Python 3",
   "language": "python",
   "name": "python3"
  },
  "language_info": {
   "codemirror_mode": {
    "name": "ipython",
    "version": 3
   },
   "file_extension": ".py",
   "mimetype": "text/x-python",
   "name": "python",
   "nbconvert_exporter": "python",
   "pygments_lexer": "ipython3",
   "version": "3.7.3"
  }
 },
 "nbformat": 4,
 "nbformat_minor": 2
}
