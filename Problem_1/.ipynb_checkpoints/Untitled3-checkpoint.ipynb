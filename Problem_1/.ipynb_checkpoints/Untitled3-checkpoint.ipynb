{
 "cells": [
  {
   "cell_type": "markdown",
   "metadata": {},
   "source": [
    "# Heun Method"
   ]
  },
  {
   "cell_type": "code",
   "execution_count": 1,
   "metadata": {},
   "outputs": [],
   "source": [
    "import numpy as np\n",
    "import matplotlib.pyplot as plt"
   ]
  },
  {
   "cell_type": "code",
   "execution_count": 2,
   "metadata": {},
   "outputs": [],
   "source": [
    "data = np.loadtxt('data.txt')"
   ]
  },
  {
   "cell_type": "code",
   "execution_count": 3,
   "metadata": {},
   "outputs": [],
   "source": [
    "m = data[:,0]\n",
    "xi = data[:,1]\n",
    "yi = data[:,2]\n",
    "zi = data[:,3]\n",
    "vxi = data[:,4]\n",
    "vyi = data[:,5]\n",
    "vzi = data[:,6]\n",
    "t_max = 1000\n",
    "G = 2.95 * (10**-4)\n",
    "delta =1\n",
    "N = 365000\n",
    "u = np.zeros((1000,2),float)\n",
    "k = np.zeros((1000,2),float)"
   ]
  },
  {
   "cell_type": "code",
   "execution_count": 8,
   "metadata": {},
   "outputs": [],
   "source": [
    "x = np.zeros((N,10),float)\n",
    "x1 = np.zeros((10),float)\n",
    "x2 = np.zeros((10),float)\n",
    "y = np.zeros((N,10),float)\n",
    "y1 = np.zeros((10),float)\n",
    "y2 = np.zeros((10),float)\n",
    "z = np.zeros((N,10),float)\n",
    "z1 = np.zeros((10),float)\n",
    "z2 = np.zeros((10),float)\n",
    "dx =np.zeros((10,10),float)\n",
    "dy = np.zeros((10,10),float)\n",
    "dz = np.zeros((10,10),float)\n",
    "#ux = np.zeros((N,10),float)\n",
    "#uy = np.zeros((N,10),float)\n",
    "#uz = np.zeros((N,10),float)\n",
    "px = np.zeros((N,10),float)\n",
    "px1 = np.zeros((10),float)\n",
    "px2 = np.zeros((10),float)\n",
    "py = np.zeros((N,10),float)\n",
    "py1 = np.zeros((10),float)\n",
    "py2 = np.zeros((10),float)\n",
    "pz = np.zeros((N,10),float)\n",
    "pz1 = np.zeros((10),float)\n",
    "pz2 = np.zeros((10),float)\n",
    "r = np.zeros((10,10),float)\n",
    "ux = np.zeros((10),float)\n",
    "uy = np.zeros((10),float)\n",
    "uz = np.zeros((10),float)\n",
    "Ux = np.zeros((10),float)\n",
    "Uy = np.zeros((10),float)\n",
    "Uz = np.zeros((10),float)\n",
    "ep = 1e-6"
   ]
  },
  {
   "cell_type": "code",
   "execution_count": 9,
   "metadata": {},
   "outputs": [],
   "source": [
    "for i in range(10):\n",
    "    x[0,i] = xi[i]\n",
    "    y[0,i] = yi[i]\n",
    "    z[0,i] = zi[i]\n",
    "    px[0,i] = m[i]*vxi[i]\n",
    "    py[0,i] = m[i]*vyi[i]\n",
    "    pz[0,i] = m[i]*vzi[i]"
   ]
  },
  {
   "cell_type": "code",
   "execution_count": null,
   "metadata": {},
   "outputs": [],
   "source": [
    "for t in range(1,N):\n",
    "    for k in range(10):\n",
    "        ux[k] = uy[k] = uz[k] = 0\n",
    "    for i in range(10):\n",
    "        x1[i] = x[t-1,i]\n",
    "        y1[i] = y[t-1,i]\n",
    "        z1[i] = z[t-1,i]\n",
    "        px1[i] = px[t-1,i]\n",
    "        py1[i] = py[t-1,i]\n",
    "        pz1[i] = pz[t-1,i]\n",
    "    for i in range(10):\n",
    "        for j in range(10):\n",
    "            if(i != j):\n",
    "                dx[i,j] = x1[i]-x1[j]\n",
    "                dy[i,j] = y1[i]-y1[j]\n",
    "                dz[i,j] = z1[i]-z1[j]\n",
    "                r[i,j] = np.sqrt(dx[i,j]**2 + dy[i,j]**2 + dz[i,j]**2)\n",
    "                ux[i] = ux[i]-G*m[i]*m[j]*dx[i,j]/((r[i,j]+ep)**3)\n",
    "                uy[i] = uy[i]-G*m[i]*m[j]*dy[i,j]/((r[i,j]+ep)**3)\n",
    "                uz[i] = uz[i]-G*m[i]*m[j]*dz[i,j]/((r[i,j]+ep)**3)\n",
    "    for i in range(10):\n",
    "        x2[i] = x1[i] + px1[i]/m[i]\n",
    "        y2[i] = y1[i] + py1[i]/m[i]\n",
    "        z2[i] = z1[i] + pz1[i]/m[i]\n",
    "        px2[i] = px1[i] + delta*ux[i]\n",
    "        py2[i] = py1[i] + delta*uy[i]\n",
    "        pz2[i] = pz1[i] + delta*uz[i]\n",
    "    for k in range(10):\n",
    "        Ux[k] = Uy[k] = Uz[k] = 0\n",
    "    for i in range(10):\n",
    "        for j in range(10):\n",
    "            if(i != j):\n",
    "                dx[i,j] = x2[i]-x2[j]\n",
    "                dy[i,j] = y2[i]-y2[j]\n",
    "                dz[i,j] = z2[i]-z2[j]\n",
    "                r[i,j] = np.sqrt(dx[i,j]**2 + dy[i,j]**2 + dz[i,j]**2)\n",
    "                Ux[i] = Ux[i]-G*m[i]*m[j]*dx[i,j]/((r[i,j]+ep)**3)\n",
    "                Uy[i] = Uy[i]-G*m[i]*m[j]*dy[i,j]/((r[i,j]+ep)**3)\n",
    "                Uz[i] = Uz[i]-G*m[i]*m[j]*dz[i,j]/((r[i,j]+ep)**3)   \n",
    "    for l in range(10):\n",
    "            x[t,l] = x[t-1,l] + delta*px[t-1,l]/m[l]\n",
    "            y[t,l] = y[t-1,l] + delta*py[t-1,l]/m[l]\n",
    "            z[t,l] = z[t-1,l] + delta*pz[t-1,l]/m[l]\n",
    "            px[t,l] = px[t-1,l] + delta*ux[l]\n",
    "            py[t,l] = py[t-1,l] + delta*uy[l]\n",
    "            pz[t,l] = pz[t-1,l] + delta*uz[l]"
   ]
  }
 ],
 "metadata": {
  "kernelspec": {
   "display_name": "Python 3",
   "language": "python",
   "name": "python3"
  },
  "language_info": {
   "codemirror_mode": {
    "name": "ipython",
    "version": 3
   },
   "file_extension": ".py",
   "mimetype": "text/x-python",
   "name": "python",
   "nbconvert_exporter": "python",
   "pygments_lexer": "ipython3",
   "version": "3.7.3"
  }
 },
 "nbformat": 4,
 "nbformat_minor": 2
}
